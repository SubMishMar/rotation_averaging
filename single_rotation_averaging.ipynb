{
  "nbformat": 4,
  "nbformat_minor": 0,
  "metadata": {
    "colab": {
      "provenance": [],
      "authorship_tag": "ABX9TyOMPrXsYHpH7e83+rs8nyuM",
      "include_colab_link": true
    },
    "kernelspec": {
      "name": "python3",
      "display_name": "Python 3"
    },
    "language_info": {
      "name": "python"
    }
  },
  "cells": [
    {
      "cell_type": "markdown",
      "metadata": {
        "id": "view-in-github",
        "colab_type": "text"
      },
      "source": [
        "<a href=\"https://colab.research.google.com/github/SubMishMar/rotation_averaging/blob/main/single_rotation_averaging.ipynb\" target=\"_parent\"><img src=\"https://colab.research.google.com/assets/colab-badge.svg\" alt=\"Open In Colab\"/></a>"
      ]
    },
    {
      "cell_type": "code",
      "execution_count": 1,
      "metadata": {
        "id": "9zyj50TbJauI"
      },
      "outputs": [],
      "source": [
        "import numpy as np\n",
        "from scipy.spatial.transform import Rotation as R"
      ]
    },
    {
      "cell_type": "code",
      "source": [
        "np.random.seed(42)  # reproducibility"
      ],
      "metadata": {
        "id": "JBOS2HdJMNsM"
      },
      "execution_count": 2,
      "outputs": []
    },
    {
      "cell_type": "code",
      "source": [
        "# Utility\n",
        "def add_rotation_noise(R_true, noise_level_deg=5.0):\n",
        "    axis = np.random.randn(3)\n",
        "    axis /= np.linalg.norm(axis)\n",
        "    angle = np.random.normal(0, np.deg2rad(noise_level_deg))\n",
        "    R_noise = R.from_rotvec(axis * angle).as_matrix()\n",
        "    return R_true.as_matrix() @ R_noise\n",
        "\n",
        "\n",
        "def hat(w):\n",
        "    wx, wy, wz = w\n",
        "    return np.array([[   0, -wz,  wy],\n",
        "                     [  wz,   0, -wx],\n",
        "                     [ -wy,  wx,   0]], dtype=float)\n",
        "\n",
        "def vee(S):\n",
        "    return np.array([S[2,1], S[0,2], S[1,0]], dtype=float)\n",
        "\n",
        "def exponential_map(w, eps=1e-8):\n",
        "    theta = np.linalg.norm(w)\n",
        "    W = hat(w)\n",
        "    if theta < eps:\n",
        "        # A ~ 1 - θ^2/6, B ~ 1/2 - θ^2/24\n",
        "        A = 1.0 - (theta**2)/6.0\n",
        "        B = 0.5 - (theta**2)/24.0\n",
        "    else:\n",
        "        A = np.sin(theta) / theta\n",
        "        B = (1.0 - np.cos(theta)) / (theta**2)\n",
        "    return np.eye(3) + A * W + B * (W @ W)\n",
        "\n",
        "\n",
        "def logarithm_map(R, eps=1e-8):\n",
        "    tr = np.trace(R)\n",
        "    cos_phi = (tr - 1.0) * 0.5\n",
        "    cos_phi = np.clip(cos_phi, -1.0, 1.0)\n",
        "    phi = np.arccos(cos_phi)\n",
        "\n",
        "    if phi < eps:\n",
        "        return 0.5 * vee(R - R.T)\n",
        "\n",
        "    if np.pi - phi < 1e-5:\n",
        "        Rp = (R + np.eye(3)) * 0.5\n",
        "        idx = np.argmax(np.diag(Rp))\n",
        "        v = np.zeros(3)\n",
        "        v[idx] = np.sqrt(max(Rp[idx, idx], 0.0))\n",
        "        j = (idx + 1) % 3\n",
        "        k = (idx + 2) % 3\n",
        "        if v[idx] > eps:\n",
        "            v[j] = Rp[j, idx] / v[idx]\n",
        "            v[k] = Rp[k, idx] / v[idx]\n",
        "        v = v / (np.linalg.norm(v) + eps)\n",
        "        return phi * v\n",
        "\n",
        "    # Generic case\n",
        "    return (phi / (2.0 * np.sin(phi))) * vee(R - R.T)\n",
        "\n",
        "def right_jacobian(v, eps=1e-8):\n",
        "    theta = np.linalg.norm(v)\n",
        "    V = hat(v)\n",
        "    if theta < eps:\n",
        "        return np.eye(3) - 0.5*V + (1.0/12.0)*(V @ V)\n",
        "    A = (1.0 - np.cos(theta)) / (theta**2)\n",
        "    B = (theta - np.sin(theta)) / (theta**3)\n",
        "    return np.eye(3) - A*V + B*(V @ V)\n",
        "\n",
        "def right_jacobian_inverse(v, eps=1e-8):\n",
        "    theta = np.linalg.norm(v)\n",
        "    V = hat(v)\n",
        "    if theta < eps:\n",
        "        return np.eye(3) + 0.5*V + (1.0/12.0)*(V @ V)\n",
        "    cot_half = 1.0 / np.tan(0.5 * theta)\n",
        "    B = (1.0 / (theta**2)) - (0.5 / theta) * cot_half\n",
        "    return np.eye(3) + 0.5*V + B*(V @ V)"
      ],
      "metadata": {
        "id": "ulCYzvwuKHdO"
      },
      "execution_count": 3,
      "outputs": []
    },
    {
      "cell_type": "code",
      "source": [
        "# Minimize Chordal Difference\n",
        "def chordal_average(rotation_matrices):\n",
        "    \"\"\"\n",
        "    Computes the chordal average of a set of rotation matrices.\n",
        "    This is the minimizer when rotations are assumed to be drawn from Langevin\n",
        "    Distribution.\n",
        "    \"\"\"\n",
        "    # Step 1: Average the rotation matrices.\n",
        "    M = np.zeros((3, 3))\n",
        "    for Rn in rotation_matrices:\n",
        "        M += Rn\n",
        "    M /= len(rotation_matrices)\n",
        "    # Step 2: Project the average matrix onto SO(3).\n",
        "    U, _, Vt = np.linalg.svd(M)\n",
        "    R = U @ Vt\n",
        "    if np.linalg.det(R) < 0:\n",
        "        Vt[-1, :] *= -1\n",
        "        R = U @ Vt\n",
        "    return R"
      ],
      "metadata": {
        "id": "97_v7__3Qc7N"
      },
      "execution_count": 4,
      "outputs": []
    },
    {
      "cell_type": "code",
      "source": [
        "# Minimize Geodesic difference\n",
        "def residuals_and_jacobians(R_est, R_meas_list):\n",
        "    rows = []\n",
        "    jacobians = []\n",
        "    Rt = R_est.T\n",
        "    for Rm in R_meas_list:\n",
        "        r_i = logarithm_map(Rt @ Rm)\n",
        "        jacobian_i = -right_jacobian_inverse(r_i)   # <-- removed @ Rm.T @ R_est\n",
        "        rows.append(r_i.reshape(-1, 1))\n",
        "        jacobians.append(jacobian_i)\n",
        "    return np.vstack(rows), np.vstack(jacobians)\n",
        "\n",
        "def cost(residual):\n",
        "    return 0.5 * float(residual.T @ residual)\n",
        "\n",
        "def gauss_newton(R_meas_list, R_init,\n",
        "                 max_iters=500, f_tol=1e-8, x_tol=1e-10):\n",
        "    R_est = R_init\n",
        "    history = []\n",
        "    step = 0.0\n",
        "    for k in range(max_iters):\n",
        "        r, J = residuals_and_jacobians(R_est, R_meas_list)\n",
        "        f = cost(r)\n",
        "\n",
        "        history.append((k, f, 'Gauss Newton', step))\n",
        "\n",
        "        H = J.T @ J\n",
        "        g = J.T @ r\n",
        "        delta = (-np.linalg.inv(H) @ g).reshape(3)   # <-- flatten to (3,)\n",
        "\n",
        "        R_new = R_est @ exponential_map(delta)\n",
        "\n",
        "        step = float(np.linalg.norm(delta))\n",
        "        r_new, _ = residuals_and_jacobians(R_new, R_meas_list)\n",
        "        f_new = cost(r_new)\n",
        "\n",
        "        if abs(f_new - f) < f_tol or step < x_tol:\n",
        "            R_est = R_new\n",
        "            break\n",
        "\n",
        "        R_est = R_new\n",
        "\n",
        "    return R_est, history"
      ],
      "metadata": {
        "id": "u9s0I0EGi_W-"
      },
      "execution_count": 12,
      "outputs": []
    },
    {
      "cell_type": "code",
      "source": [
        "# Generate a True Rotation Value\n",
        "angle_x = 30.0  # degrees\n",
        "angle_y = 20.0\n",
        "angle_z = 10.0\n",
        "euler_order = \"xyz\"\n",
        "true_euler_deg = {\n",
        "    'x': angle_x,\n",
        "    'y': angle_y,\n",
        "    'z': angle_z\n",
        "}\n",
        "angles = [true_euler_deg[axis] for axis in euler_order]\n",
        "R_true = R.from_euler(euler_order, angles, degrees=True)\n",
        "\n",
        "# Generate N noisy versions\n",
        "N = 10\n",
        "noisy_rotations = [add_rotation_noise(R_true, noise_level_deg=2.5) for _ in range(N)]\n",
        "R_init = add_rotation_noise(R_true, noise_level_deg=10.0)\n",
        "for i, Rn in enumerate(noisy_rotations):\n",
        "  rot_vec = R.from_matrix(Rn).as_euler('xyz', degrees=True)\n",
        "  print(f\"\\nNoisy Rotation {i+1}:\\n{rot_vec}\")\n",
        "\n",
        "R_estimated = chordal_average(noisy_rotations)\n",
        "\n",
        "print('\\nR_true: \\n', R_true.as_euler('xyz', degrees=True))\n",
        "print('R_estimated: \\n', R.from_matrix(R_estimated).as_euler('xyz', degrees=True))"
      ],
      "metadata": {
        "colab": {
          "base_uri": "https://localhost:8080/"
        },
        "id": "_I51NckzKUnJ",
        "outputId": "c90048b3-8551-4e8b-b440-b73b7d90a5d3"
      },
      "execution_count": 16,
      "outputs": [
        {
          "output_type": "stream",
          "name": "stdout",
          "text": [
            "\n",
            "Noisy Rotation 1:\n",
            "[30.34926111 20.72275733 12.03121507]\n",
            "\n",
            "Noisy Rotation 2:\n",
            "[31.06777172 26.38244298 12.55498031]\n",
            "\n",
            "Noisy Rotation 3:\n",
            "[30.10741551 19.83550339  8.84595662]\n",
            "\n",
            "Noisy Rotation 4:\n",
            "[29.98868109 19.92147492  9.8322124 ]\n",
            "\n",
            "Noisy Rotation 5:\n",
            "[28.51431658 18.68166449  8.56933044]\n",
            "\n",
            "Noisy Rotation 6:\n",
            "[30.03469578 19.12015246  9.62080084]\n",
            "\n",
            "Noisy Rotation 7:\n",
            "[32.66060729 19.67887602  9.56195092]\n",
            "\n",
            "Noisy Rotation 8:\n",
            "[31.65651379 19.84767085 12.68403751]\n",
            "\n",
            "Noisy Rotation 9:\n",
            "[28.98201766 19.21221091  9.98954497]\n",
            "\n",
            "Noisy Rotation 10:\n",
            "[31.05498362 22.18877332 11.89647732]\n",
            "\n",
            "R_true: \n",
            " [30. 20. 10.]\n",
            "R_estimated: \n",
            " [30.41915109 20.56495618 10.54343758]\n"
          ]
        }
      ]
    },
    {
      "cell_type": "code",
      "source": [
        "R_est, history = gauss_newton(noisy_rotations, R_init)"
      ],
      "metadata": {
        "colab": {
          "base_uri": "https://localhost:8080/"
        },
        "id": "QhCWnqNbcSGW",
        "outputId": "783066c9-083d-489c-bf9b-3bc9effd90e1"
      },
      "execution_count": 17,
      "outputs": [
        {
          "output_type": "stream",
          "name": "stdout",
          "text": [
            "[0, 0.08758537098469461, 'Gauss Newton', 0.0]\n",
            "[1, 0.011575654607054989, 'Gauss Newton', 0.1232707836297974]\n"
          ]
        },
        {
          "output_type": "stream",
          "name": "stderr",
          "text": [
            "/tmp/ipython-input-2074935398.py:14: DeprecationWarning: Conversion of an array with ndim > 0 to a scalar is deprecated, and will error in future. Ensure you extract a single element from your array before performing this operation. (Deprecated NumPy 1.25.)\n",
            "  return 0.5 * float(residual.T @ residual)\n"
          ]
        }
      ]
    },
    {
      "cell_type": "code",
      "source": [
        "print('\\nR_true: \\n', R_true.as_euler('xyz', degrees=True))\n",
        "print('R_init: \\n', R.from_matrix(R_init).as_euler('xyz', degrees=True))\n",
        "print('R_estimated: \\n', R.from_matrix(R_est).as_euler('xyz', degrees=True))"
      ],
      "metadata": {
        "colab": {
          "base_uri": "https://localhost:8080/"
        },
        "id": "yGS7VQ-id-OQ",
        "outputId": "54ffa026-459c-4e2e-c4b8-831272496a52"
      },
      "execution_count": 21,
      "outputs": [
        {
          "output_type": "stream",
          "name": "stdout",
          "text": [
            "\n",
            "R_true: \n",
            " [30. 20. 10.]\n",
            "R_init: \n",
            " [36.28935298 24.54747784 10.63091391]\n",
            "R_estimated: \n",
            " [30.41926384 20.5658996  10.54371944]\n"
          ]
        }
      ]
    }
  ]
}