{
  "nbformat": 4,
  "nbformat_minor": 0,
  "metadata": {
    "colab": {
      "provenance": [],
      "authorship_tag": "ABX9TyMubnkm6Xnsvy+SBSAon8iu",
      "include_colab_link": true
    },
    "kernelspec": {
      "name": "python3",
      "display_name": "Python 3"
    },
    "language_info": {
      "name": "python"
    }
  },
  "cells": [
    {
      "cell_type": "markdown",
      "metadata": {
        "id": "view-in-github",
        "colab_type": "text"
      },
      "source": [
        "<a href=\"https://colab.research.google.com/github/SubMishMar/rotation_averaging/blob/main/single_rotation_averaging.ipynb\" target=\"_parent\"><img src=\"https://colab.research.google.com/assets/colab-badge.svg\" alt=\"Open In Colab\"/></a>"
      ]
    },
    {
      "cell_type": "code",
      "execution_count": 63,
      "metadata": {
        "id": "9zyj50TbJauI"
      },
      "outputs": [],
      "source": [
        "import numpy as np\n",
        "from scipy.spatial.transform import Rotation as R"
      ]
    },
    {
      "cell_type": "code",
      "source": [
        "np.random.seed(42)  # reproducibility"
      ],
      "metadata": {
        "id": "JBOS2HdJMNsM"
      },
      "execution_count": 64,
      "outputs": []
    },
    {
      "cell_type": "code",
      "source": [
        "# Utility\n",
        "\n",
        "def log_angle(R):\n",
        "    t = (np.trace(R) - 1.0)*0.5\n",
        "    t = np.clip(t, -1.0, 1.0)\n",
        "    return float(np.arccos(t))\n",
        "\n",
        "def ang_error_deg(Ra, Rb):\n",
        "    return np.degrees(log_angle(Ra.T @ Rb))\n",
        "\n",
        "def add_rotation_noise(R_true, noise_level_deg=5.0):\n",
        "    axis = np.random.randn(3)\n",
        "    axis /= np.linalg.norm(axis)\n",
        "    angle = np.random.normal(0, np.deg2rad(noise_level_deg))\n",
        "    R_noise = R.from_rotvec(axis * angle).as_matrix()\n",
        "    return R_true.as_matrix() @ R_noise\n",
        "\n",
        "\n",
        "def hat(w):\n",
        "    wx, wy, wz = w\n",
        "    return np.array([[   0, -wz,  wy],\n",
        "                     [  wz,   0, -wx],\n",
        "                     [ -wy,  wx,   0]], dtype=float)\n",
        "\n",
        "def vee(S):\n",
        "    return np.array([S[2,1], S[0,2], S[1,0]], dtype=float)\n",
        "\n",
        "def exponential_map(w, eps=1e-8):\n",
        "    theta = np.linalg.norm(w)\n",
        "    W = hat(w)\n",
        "    if theta < eps:\n",
        "        # A ~ 1 - θ^2/6, B ~ 1/2 - θ^2/24\n",
        "        A = 1.0 - (theta**2)/6.0\n",
        "        B = 0.5 - (theta**2)/24.0\n",
        "    else:\n",
        "        A = np.sin(theta) / theta\n",
        "        B = (1.0 - np.cos(theta)) / (theta**2)\n",
        "    return np.eye(3) + A * W + B * (W @ W)\n",
        "\n",
        "\n",
        "def logarithm_map(R, eps=1e-8):\n",
        "    tr = np.trace(R)\n",
        "    cos_phi = (tr - 1.0) * 0.5\n",
        "    cos_phi = np.clip(cos_phi, -1.0, 1.0)\n",
        "    phi = np.arccos(cos_phi)\n",
        "\n",
        "    if phi < eps:\n",
        "        return 0.5 * vee(R - R.T)\n",
        "\n",
        "    if np.pi - phi < 1e-5:\n",
        "        Rp = (R + np.eye(3)) * 0.5\n",
        "        idx = np.argmax(np.diag(Rp))\n",
        "        v = np.zeros(3)\n",
        "        v[idx] = np.sqrt(max(Rp[idx, idx], 0.0))\n",
        "        j = (idx + 1) % 3\n",
        "        k = (idx + 2) % 3\n",
        "        if v[idx] > eps:\n",
        "            v[j] = Rp[j, idx] / v[idx]\n",
        "            v[k] = Rp[k, idx] / v[idx]\n",
        "        v = v / (np.linalg.norm(v) + eps)\n",
        "        return phi * v\n",
        "\n",
        "    # Generic case\n",
        "    return (phi / (2.0 * np.sin(phi))) * vee(R - R.T)\n",
        "\n",
        "def right_jacobian(v, eps=1e-8):\n",
        "    theta = np.linalg.norm(v)\n",
        "    V = hat(v)\n",
        "    if theta < eps:\n",
        "        return np.eye(3) - 0.5*V + (1.0/12.0)*(V @ V)\n",
        "    A = (1.0 - np.cos(theta)) / (theta**2)\n",
        "    B = (theta - np.sin(theta)) / (theta**3)\n",
        "    return np.eye(3) - A*V + B*(V @ V)\n",
        "\n",
        "def right_jacobian_inverse(v, eps=1e-8):\n",
        "    theta = np.linalg.norm(v)\n",
        "    V = hat(v)\n",
        "    if theta < eps:\n",
        "        return np.eye(3) + 0.5*V + (1.0/12.0)*(V @ V)\n",
        "    cot_half = 1.0 / np.tan(0.5 * theta)\n",
        "    B = (1.0 / (theta**2)) - (0.5 / theta) * cot_half\n",
        "    return np.eye(3) + 0.5*V + B*(V @ V)\n",
        "\n",
        "def get_G():\n",
        "    G = np.zeros((9,3))\n",
        "    # column-stacked vec; hat([dx,dy,dz]) columns: [ [0, dz, -dy], [-dz, 0, dx], [dy, -dx, 0] ]\n",
        "    G[1,2] =  1.0; G[2,1] = -1.0\n",
        "    G[3,2] = -1.0; G[5,0] =  1.0\n",
        "    G[6,1] =  1.0; G[7,0] = -1.0\n",
        "    return G\n",
        "\n",
        "def cost(residual):\n",
        "    return 0.5 * (residual.T @ residual).item()\n",
        "\n",
        "def project_to_so3(M):\n",
        "    U,_,Vt = np.linalg.svd(M)\n",
        "    R = U@Vt\n",
        "    if np.linalg.det(R) < 0:\n",
        "        U[:,-1]*=-1\n",
        "        R = U@Vt\n",
        "    return R\n",
        "\n",
        "def vec_col(A):\n",
        "    return A.reshape(-1, order='F')"
      ],
      "metadata": {
        "id": "ulCYzvwuKHdO"
      },
      "execution_count": 65,
      "outputs": []
    },
    {
      "cell_type": "code",
      "source": [
        "# Chordal Averaging\n",
        "def chordal_average(rotation_matrices):\n",
        "    # Computes the chordal average of a set of rotation matrices.\n",
        "    # This is the minimizer when rotations are assumed to be drawn from Langevin\n",
        "    # Distribution.\n",
        "\n",
        "    # Step 1: Average the rotation matrices.\n",
        "    M = np.zeros((3, 3))\n",
        "    for Rn in rotation_matrices:\n",
        "        M += Rn\n",
        "    M /= len(rotation_matrices)\n",
        "    # Step 2: Project the average matrix onto SO(3).\n",
        "    U, _, Vt = np.linalg.svd(M)\n",
        "    R = U @ Vt\n",
        "    if np.linalg.det(R) < 0:\n",
        "        Vt[-1, :] *= -1\n",
        "        R = U @ Vt\n",
        "    return R"
      ],
      "metadata": {
        "id": "97_v7__3Qc7N"
      },
      "execution_count": 66,
      "outputs": []
    },
    {
      "cell_type": "code",
      "source": [
        "# Minimize Chordal difference using NLLS\n",
        "# Minimization of Chordal difference results when rotations are assumed to be\n",
        "# sampled from a Langevin distribution over Lie Groups\n",
        "def residuals_and_jacobians_chordal_difference(R_est, R_meas_list):\n",
        "    rows = []\n",
        "    jacobians = []\n",
        "    jacobian_i = np.kron(np.eye(3), R_est) @ get_G()\n",
        "    for Rm in R_meas_list:\n",
        "        r_i = vec_col(R_est - Rm)\n",
        "        rows.append(r_i[:,None])\n",
        "        jacobians.append(jacobian_i)\n",
        "\n",
        "    return np.vstack(rows), np.vstack(jacobians)"
      ],
      "metadata": {
        "id": "NaaZIyNUE1e-"
      },
      "execution_count": 67,
      "outputs": []
    },
    {
      "cell_type": "code",
      "source": [
        "# Minimize Geodesic difference NLLS\n",
        "# Minimization of Geodesic difference results when rotations are assumed to be\n",
        "# sampled from a wrapped Gaussian distribution over Lie groups\n",
        "def residuals_and_jacobians_log_error(R_est, R_meas_list):\n",
        "    rows = []\n",
        "    jacobians = []\n",
        "    Rt = R_est.T\n",
        "    for Rm in R_meas_list:\n",
        "        r_i = logarithm_map(Rt @ Rm)\n",
        "        jacobian_i = -right_jacobian_inverse(r_i) @ Rm.T @ R_est\n",
        "        rows.append(r_i.reshape(-1, 1))\n",
        "        jacobians.append(jacobian_i)\n",
        "    return np.vstack(rows), np.vstack(jacobians)"
      ],
      "metadata": {
        "id": "u9s0I0EGi_W-"
      },
      "execution_count": 68,
      "outputs": []
    },
    {
      "cell_type": "code",
      "source": [
        "# Solver\n",
        "def gauss_newton(R_meas_list, R_init, max_iters=100, f_tol=1e-10, x_tol=1e-12,\n",
        "                 method='chordal', lm_lambda=0.0):\n",
        "    R_est = R_init.copy()\n",
        "    history = []\n",
        "    for k in range(max_iters):\n",
        "        if method == 'chordal':\n",
        "            r, J = residuals_and_jacobians_chordal_difference(R_est, R_meas_list)\n",
        "        else:\n",
        "            r, J = residuals_and_jacobians_log_error(R_est, R_meas_list)\n",
        "\n",
        "        f = cost(r)\n",
        "        H = J.T @ J\n",
        "        g = J.T @ r\n",
        "        if lm_lambda > 0.0:\n",
        "            H = H + lm_lambda * np.eye(3)\n",
        "\n",
        "        delta = (-np.linalg.inv(H) @ g).reshape(3)\n",
        "        R_new = project_to_so3(R_est @ exponential_map(delta))\n",
        "\n",
        "        if method == 'chordal':\n",
        "            r_new, _ = residuals_and_jacobians_chordal_difference(R_new, R_meas_list)\n",
        "        else:\n",
        "            r_new, _ = residuals_and_jacobians_log_error(R_new, R_meas_list)\n",
        "\n",
        "        f_new = cost(r_new)\n",
        "        step = float(np.linalg.norm(delta))\n",
        "        history.append((k, f_new, step))\n",
        "\n",
        "        R_est = R_new\n",
        "\n",
        "        if abs(f_new - f) < f_tol or step < x_tol:\n",
        "            break\n",
        "    return R_est, history"
      ],
      "metadata": {
        "id": "RsqZJKKxEsfx"
      },
      "execution_count": 69,
      "outputs": []
    },
    {
      "cell_type": "code",
      "source": [
        "# Generate a True Rotation Value\n",
        "angle_x = 30.0  # degrees\n",
        "angle_y = 20.0\n",
        "angle_z = 10.0\n",
        "euler_order = \"xyz\"\n",
        "true_euler_deg = {\n",
        "    'x': angle_x,\n",
        "    'y': angle_y,\n",
        "    'z': angle_z\n",
        "}\n",
        "angles = [true_euler_deg[axis] for axis in euler_order]\n",
        "R_true = R.from_euler(euler_order, angles, degrees=True)\n",
        "\n",
        "# Generate N noisy versions\n",
        "N = 10\n",
        "noisy_rotations = [add_rotation_noise(R_true, noise_level_deg=2.5) for _ in range(N)]\n",
        "R_init = add_rotation_noise(R_true, noise_level_deg=50.0)\n",
        "for i, Rn in enumerate(noisy_rotations):\n",
        "  rot_vec = R.from_matrix(Rn).as_euler('xyz', degrees=True)\n",
        "  #print(f\"\\nNoisy Rotation {i+1}:\\n{rot_vec}\")"
      ],
      "metadata": {
        "id": "_I51NckzKUnJ"
      },
      "execution_count": 70,
      "outputs": []
    },
    {
      "cell_type": "code",
      "source": [
        "R_est_chordal_avg = chordal_average(noisy_rotations)\n",
        "print('\\nChordal Averaging\\n')\n",
        "print('\\nR_true: \\n', R_true.as_euler('xyz', degrees=True))\n",
        "print('R_init: \\n', R.from_matrix(R_init).as_euler('xyz', degrees=True))\n",
        "print('R_estimated: \\n', R.from_matrix(R_est_chordal_avg).as_euler('xyz', degrees=True))"
      ],
      "metadata": {
        "colab": {
          "base_uri": "https://localhost:8080/"
        },
        "id": "ROAm-YWRC9O-",
        "outputId": "7117d027-9f12-4370-c8c4-96e53bb97633"
      },
      "execution_count": 71,
      "outputs": [
        {
          "output_type": "stream",
          "name": "stdout",
          "text": [
            "\n",
            "Chordal Averaging\n",
            "\n",
            "\n",
            "R_true: \n",
            " [30. 20. 10.]\n",
            "R_init: \n",
            " [15.75059527 16.02822191 10.82211481]\n",
            "R_estimated: \n",
            " [29.88637802 19.85218462 10.21233337]\n"
          ]
        }
      ]
    },
    {
      "cell_type": "code",
      "source": [
        "R_est_geodesic_gn, history = gauss_newton(noisy_rotations, R_init)\n",
        "print('\\nGeodesic GN\\n')\n",
        "print('\\nR_true: \\n', R_true.as_euler('xyz', degrees=True))\n",
        "print('R_init: \\n', R.from_matrix(R_init).as_euler('xyz', degrees=True))\n",
        "print('R_estimated: \\n', R.from_matrix(R_est_geodesic_gn).as_euler('xyz', degrees=True))"
      ],
      "metadata": {
        "colab": {
          "base_uri": "https://localhost:8080/"
        },
        "id": "QhCWnqNbcSGW",
        "outputId": "f9390098-233d-4754-d419-cea525ec2369"
      },
      "execution_count": 72,
      "outputs": [
        {
          "output_type": "stream",
          "name": "stdout",
          "text": [
            "\n",
            "Geodesic GN\n",
            "\n",
            "\n",
            "R_true: \n",
            " [30. 20. 10.]\n",
            "R_init: \n",
            " [15.75059527 16.02822191 10.82211481]\n",
            "R_estimated: \n",
            " [29.88637789 19.85218463 10.21233333]\n"
          ]
        }
      ]
    },
    {
      "cell_type": "code",
      "source": [
        "R_est_chordal_gn, history = gauss_newton(noisy_rotations, R_init, method=\"chordal\")\n",
        "print('\\nChordal GN\\n')\n",
        "print('\\nR_true: \\n', R_true.as_euler('xyz', degrees=True))\n",
        "print('R_init: \\n', R.from_matrix(R_init).as_euler('xyz', degrees=True))\n",
        "print('R_estimated: \\n', R.from_matrix(R_est_chordal_gn).as_euler('xyz', degrees=True))"
      ],
      "metadata": {
        "colab": {
          "base_uri": "https://localhost:8080/"
        },
        "id": "yGS7VQ-id-OQ",
        "outputId": "a77ad559-9ec8-40a9-ccfb-3017e96b3ad8"
      },
      "execution_count": 73,
      "outputs": [
        {
          "output_type": "stream",
          "name": "stdout",
          "text": [
            "\n",
            "Chordal GN\n",
            "\n",
            "\n",
            "R_true: \n",
            " [30. 20. 10.]\n",
            "R_init: \n",
            " [15.75059527 16.02822191 10.82211481]\n",
            "R_estimated: \n",
            " [29.88637789 19.85218463 10.21233333]\n"
          ]
        }
      ]
    },
    {
      "cell_type": "code",
      "source": [
        "# sanity checks\n",
        "print(\"Errors to truth (deg):\")\n",
        "print(f\"  Chordal Avg.  : {ang_error_deg(R_true.as_matrix(), R_est_chordal_avg):.4f}\")\n",
        "print(f\"  Geodesic GN   : {ang_error_deg(R_true.as_matrix(), R_est_geodesic_gn):.4f}\")\n",
        "print(f\"  Chordal GN: {ang_error_deg(R_true.as_matrix(), R_est_chordal_gn):.4f}\")"
      ],
      "metadata": {
        "colab": {
          "base_uri": "https://localhost:8080/"
        },
        "id": "SmrDVKTuFrNW",
        "outputId": "7f8f2781-0d11-47c0-ba19-d6e20b94bac5"
      },
      "execution_count": 74,
      "outputs": [
        {
          "output_type": "stream",
          "name": "stdout",
          "text": [
            "Errors to truth (deg):\n",
            "  Chordal Avg.  : 0.3103\n",
            "  Geodesic GN   : 0.3103\n",
            "  Chordal GN: 0.3103\n"
          ]
        }
      ]
    }
  ]
}